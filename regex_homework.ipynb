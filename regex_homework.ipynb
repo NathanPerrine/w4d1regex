{
 "cells": [
  {
   "cell_type": "markdown",
   "metadata": {},
   "source": [
    "Regex project\n",
    "\n",
    "Use python to read the file regex_test.txt and print the last name on each line using regular expressions and groups (return None for names with no first and last name, or names that aren't properly capitalized)"
   ]
  },
  {
   "cell_type": "code",
   "execution_count": 2,
   "metadata": {},
   "outputs": [],
   "source": [
    "import re"
   ]
  },
  {
   "cell_type": "code",
   "execution_count": 3,
   "metadata": {},
   "outputs": [],
   "source": [
    "with open(\"regex_test.txt\") as file:\n",
    "    data = file.read()"
   ]
  },
  {
   "cell_type": "code",
   "execution_count": 4,
   "metadata": {},
   "outputs": [
    {
     "name": "stdout",
     "output_type": "stream",
     "text": [
      "Abraham Lincoln\n",
      "Andrew P Garfield\n",
      "Connor Milliken\n",
      "Jordan Alexander Williams\n",
      "Madonna\n",
      "programming is cool\n"
     ]
    }
   ],
   "source": [
    "print(data)"
   ]
  },
  {
   "cell_type": "code",
   "execution_count": 5,
   "metadata": {},
   "outputs": [],
   "source": [
    "def lname(s):\n",
    "    pattern = re.compile(r\"\"\"\n",
    "    ^(?P<fname>[A-Z][a-z]+)+\\s\n",
    "    (?P<middle>[A-Z][a-z]*)*\\s?\n",
    "    (?P<lname>[A-Z][a-z]+)$\n",
    "    \"\"\", re.M|re.X)\n",
    "    \n",
    "    for match in pattern.finditer(s):\n",
    "        if match.group('lname'):\n",
    "            print(match.group('lname'))\n"
   ]
  },
  {
   "cell_type": "code",
   "execution_count": 6,
   "metadata": {},
   "outputs": [
    {
     "name": "stdout",
     "output_type": "stream",
     "text": [
      "Lincoln\n",
      "Garfield\n",
      "Milliken\n",
      "Williams\n"
     ]
    }
   ],
   "source": [
    "lname(data)\n"
   ]
  },
  {
   "cell_type": "code",
   "execution_count": 7,
   "metadata": {},
   "outputs": [],
   "source": [
    "def last_name_regex(s):\n",
    "    pattern = re.compile(r\"\"\"\n",
    "    ^(?P<fname>[A-Z][a-z]+)+\\s\n",
    "    (?P<middle>[A-Z][a-z]*)*\\s?\n",
    "    (?P<lname>[A-Z][a-z]+)$\n",
    "    \"\"\", re.M|re.X)\n",
    "\n",
    "    match = pattern.match(s)\n",
    "    if match:\n",
    "        return match.group('lname')\n",
    "    else:\n",
    "        return None\n"
   ]
  },
  {
   "cell_type": "code",
   "execution_count": 8,
   "metadata": {},
   "outputs": [],
   "source": [
    "with open(\"regex_test.txt\") as file:\n",
    "    data = file.readlines()"
   ]
  },
  {
   "cell_type": "code",
   "execution_count": 9,
   "metadata": {},
   "outputs": [
    {
     "name": "stdout",
     "output_type": "stream",
     "text": [
      "Lincoln\n",
      "Garfield\n",
      "Milliken\n",
      "Williams\n",
      "None\n",
      "None\n"
     ]
    }
   ],
   "source": [
    "for line in data:\n",
    "    print(last_name_regex(line))"
   ]
  },
  {
   "cell_type": "code",
   "execution_count": 11,
   "metadata": {},
   "outputs": [],
   "source": [
    "names = \"\"\"\n",
    "Abraham Lincoln\n",
    "Andrew P Garfield\n",
    "Connor Milliken\n",
    "Jordan Alexander Williams\n",
    "Robert Bobbert Jobbert Flobbert\n",
    "Madonna\n",
    "programming is cool\n",
    "\"\"\""
   ]
  },
  {
   "cell_type": "code",
   "execution_count": 20,
   "metadata": {},
   "outputs": [],
   "source": [
    "def multi_name_regex(s):\n",
    "    pattern2 = re.compile(r\"\"\" \n",
    "    ^(?P<first>[\\w]+)\n",
    "    (?P<middle>[ ]*[\\w ]*[ ])*\n",
    "    (?P<last>[\\w]+)$\n",
    "    \"\"\", re.M|re.X)\n",
    "\n",
    "    match = pattern2.findall(s)\n",
    "    print(match)\n",
    "\n",
    "    for thing in match:\n",
    "        print(thing)\n",
    "        print(thing[2])\n",
    "\n",
    "    \n",
    "    "
   ]
  },
  {
   "cell_type": "code",
   "execution_count": 21,
   "metadata": {},
   "outputs": [
    {
     "name": "stdout",
     "output_type": "stream",
     "text": [
      "[('Abraham', ' ', 'Lincoln'), ('Andrew', ' P ', 'Garfield'), ('Connor', ' ', 'Milliken'), ('Jordan', ' Alexander ', 'Williams'), ('Robert', ' Bobbert Jobbert ', 'Flobbert'), ('Madonn', '', 'a'), ('programming', ' is ', 'cool')]\n",
      "('Abraham', ' ', 'Lincoln')\n",
      "Lincoln\n",
      "('Andrew', ' P ', 'Garfield')\n",
      "Garfield\n",
      "('Connor', ' ', 'Milliken')\n",
      "Milliken\n",
      "('Jordan', ' Alexander ', 'Williams')\n",
      "Williams\n",
      "('Robert', ' Bobbert Jobbert ', 'Flobbert')\n",
      "Flobbert\n",
      "('Madonn', '', 'a')\n",
      "a\n",
      "('programming', ' is ', 'cool')\n",
      "cool\n",
      "None\n"
     ]
    }
   ],
   "source": [
    "print(multi_name_regex(names))"
   ]
  }
 ],
 "metadata": {
  "interpreter": {
   "hash": "16dd1f0e6febe29089962fb2487a942d8d2b9927ae6d9b119e77798fd68476cf"
  },
  "kernelspec": {
   "display_name": "Python 3.9.10 64-bit",
   "language": "python",
   "name": "python3"
  },
  "language_info": {
   "codemirror_mode": {
    "name": "ipython",
    "version": 3
   },
   "file_extension": ".py",
   "mimetype": "text/x-python",
   "name": "python",
   "nbconvert_exporter": "python",
   "pygments_lexer": "ipython3",
   "version": "3.9.10"
  },
  "orig_nbformat": 4
 },
 "nbformat": 4,
 "nbformat_minor": 2
}
