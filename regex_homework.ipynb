{
 "cells": [
  {
   "cell_type": "markdown",
   "metadata": {},
   "source": [
    "Regex project\n",
    "\n",
    "Use python to read the file regex_test.txt and print the last name on each line using regular expressions and groups (return None for names with no first and last name, or names that aren't properly capitalized)"
   ]
  },
  {
   "cell_type": "code",
   "execution_count": 1,
   "metadata": {},
   "outputs": [],
   "source": [
    "import re"
   ]
  },
  {
   "cell_type": "code",
   "execution_count": 2,
   "metadata": {},
   "outputs": [],
   "source": [
    "with open(\"regex_test.txt\") as file:\n",
    "    data = file.read()"
   ]
  },
  {
   "cell_type": "code",
   "execution_count": 3,
   "metadata": {},
   "outputs": [
    {
     "name": "stdout",
     "output_type": "stream",
     "text": [
      "Abraham Lincoln\n",
      "Andrew P Garfield\n",
      "Connor Milliken\n",
      "Jordan Alexander Williams\n",
      "Madonna\n",
      "programming is cool\n"
     ]
    }
   ],
   "source": [
    "print(data)"
   ]
  },
  {
   "cell_type": "code",
   "execution_count": 4,
   "metadata": {},
   "outputs": [],
   "source": [
    "def lname(s):\n",
    "    pattern = re.compile(r\"\"\"\n",
    "    ^(?P<fname>[A-Z][a-z]+)+\\s\n",
    "    (?P<middle>[A-Z][a-z]*)*\\s?\n",
    "    (?P<lname>[A-Z][a-z]+)$\n",
    "    \"\"\", re.M|re.X)\n",
    "    \n",
    "    for match in pattern.finditer(s):\n",
    "        if match.group('lname'):\n",
    "            print(match.group('lname'))\n"
   ]
  },
  {
   "cell_type": "code",
   "execution_count": 5,
   "metadata": {},
   "outputs": [
    {
     "name": "stdout",
     "output_type": "stream",
     "text": [
      "Lincoln\n",
      "Garfield\n",
      "Milliken\n",
      "Williams\n"
     ]
    }
   ],
   "source": [
    "lname(data)\n"
   ]
  },
  {
   "cell_type": "code",
   "execution_count": 6,
   "metadata": {},
   "outputs": [],
   "source": [
    "def last_name_regex(s):\n",
    "    pattern = re.compile(r\"\"\"\n",
    "    ^(?P<fname>[A-Z][a-z]+)+\\s\n",
    "    (?P<middle>[A-Z][a-z]*)*\\s?\n",
    "    (?P<lname>[A-Z][a-z]+)$\n",
    "    \"\"\", re.M|re.X)\n",
    "\n",
    "    match = pattern.match(s)\n",
    "    if match:\n",
    "        return match.group('lname')\n",
    "    else:\n",
    "        return None\n"
   ]
  },
  {
   "cell_type": "code",
   "execution_count": 7,
   "metadata": {},
   "outputs": [],
   "source": [
    "with open(\"regex_test.txt\") as file:\n",
    "    data = file.readlines()"
   ]
  },
  {
   "cell_type": "code",
   "execution_count": 8,
   "metadata": {},
   "outputs": [
    {
     "name": "stdout",
     "output_type": "stream",
     "text": [
      "Lincoln\n",
      "Garfield\n",
      "Milliken\n",
      "Williams\n",
      "None\n",
      "None\n"
     ]
    }
   ],
   "source": [
    "for line in data:\n",
    "    print(last_name_regex(line))"
   ]
  },
  {
   "cell_type": "code",
   "execution_count": 9,
   "metadata": {},
   "outputs": [],
   "source": [
    "names = \"\"\"\n",
    "Abraham Lincoln\n",
    "Andrew P Garfield\n",
    "Connor Milliken\n",
    "Jordan Alexander Williams\n",
    "Robert Bobbert Jobbert Flobbert\n",
    "Madonna\n",
    "programming is cool\n",
    "\"\"\""
   ]
  },
  {
   "cell_type": "code",
   "execution_count": 38,
   "metadata": {},
   "outputs": [],
   "source": [
    "def multi_name_regex(s):\n",
    "    pattern2 = re.compile(r\"\"\" \n",
    "    ^(?P<first>[\\w]+)\n",
    "    (?P<middle>[ ]*[\\w ]*[ ])*\n",
    "    (?P<last>[\\w]+)$\n",
    "    \"\"\", re.M|re.X)\n",
    "\n",
    "    match = pattern2.finditer(s)\n",
    "    print(match)\n",
    "\n",
    "    for thing in match:\n",
    "        print('-------------')\n",
    "        print(f\"First  name: {thing.group('first')}\")\n",
    "        try:\n",
    "            print(f\"Middle name: {thing.group('middle').lstrip()}\")\n",
    "        except: # breaks if no middle name...\n",
    "            pass \n",
    "        print(f\"Last   name: {thing.group('last')}\")\n",
    "        # print(thing.group('last'))\n",
    "\n",
    "    \n",
    "    "
   ]
  },
  {
   "cell_type": "code",
   "execution_count": 39,
   "metadata": {},
   "outputs": [
    {
     "name": "stdout",
     "output_type": "stream",
     "text": [
      "<callable_iterator object at 0x0000027F4B581AF0>\n",
      "-------------\n",
      "First  name: Abraham\n",
      "Middle name: \n",
      "Last   name: Lincoln\n",
      "-------------\n",
      "First  name: Andrew\n",
      "Middle name: P \n",
      "Last   name: Garfield\n",
      "-------------\n",
      "First  name: Connor\n",
      "Middle name: \n",
      "Last   name: Milliken\n",
      "-------------\n",
      "First  name: Jordan\n",
      "Middle name: Alexander \n",
      "Last   name: Williams\n",
      "-------------\n",
      "First  name: Robert\n",
      "Middle name: Bobbert Jobbert \n",
      "Last   name: Flobbert\n",
      "-------------\n",
      "First  name: Madonn\n",
      "Last   name: a\n",
      "-------------\n",
      "First  name: programming\n",
      "Middle name: is \n",
      "Last   name: cool\n",
      "None\n"
     ]
    }
   ],
   "source": [
    "print(multi_name_regex(names))"
   ]
  }
 ],
 "metadata": {
  "interpreter": {
   "hash": "16dd1f0e6febe29089962fb2487a942d8d2b9927ae6d9b119e77798fd68476cf"
  },
  "kernelspec": {
   "display_name": "Python 3.9.10 64-bit",
   "language": "python",
   "name": "python3"
  },
  "language_info": {
   "codemirror_mode": {
    "name": "ipython",
    "version": 3
   },
   "file_extension": ".py",
   "mimetype": "text/x-python",
   "name": "python",
   "nbconvert_exporter": "python",
   "pygments_lexer": "ipython3",
   "version": "3.9.10"
  },
  "orig_nbformat": 4
 },
 "nbformat": 4,
 "nbformat_minor": 2
}
